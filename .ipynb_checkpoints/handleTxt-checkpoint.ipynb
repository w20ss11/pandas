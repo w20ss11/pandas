{
 "cells": [
  {
   "cell_type": "code",
   "execution_count": 2,
   "metadata": {
    "collapsed": false
   },
   "outputs": [],
   "source": [
    "from pandas import DataFrame,Series\n",
    "import pandas as pd\n",
    "import numpy as np"
   ]
  },
  {
   "cell_type": "code",
   "execution_count": 3,
   "metadata": {
    "collapsed": false
   },
   "outputs": [
    {
     "name": "stdout",
     "output_type": "stream",
     "text": [
      "     col1 col2\n",
      "row1   a   1:2\n",
      "row2  b    2:3\n"
     ]
    }
   ],
   "source": [
    "df = DataFrame({'col1':[' a ','b  '],'col2':['1:2','2:3']},index=['row1','row2'])\n",
    "print(df)"
   ]
  },
  {
   "cell_type": "code",
   "execution_count": 6,
   "metadata": {
    "collapsed": false
   },
   "outputs": [
    {
     "name": "stdout",
     "output_type": "stream",
     "text": [
      "     col1 col2\n",
      "row1    a  1:2\n",
      "row2    b  2:3\n",
      "a\n"
     ]
    }
   ],
   "source": [
    "# 去除空白\n",
    "df['col1'] = df['col1'].map(str.strip)\n",
    "print(df)\n",
    "print(df.loc['row1','col1'])"
   ]
  },
  {
   "cell_type": "code",
   "execution_count": 11,
   "metadata": {
    "collapsed": false
   },
   "outputs": [
    {
     "name": "stdout",
     "output_type": "stream",
     "text": [
      "     col3 col4\n",
      "row1    1    2\n",
      "row2    2    3\n",
      "     col1 col2 col3 col4\n",
      "row1    a  1:2    1    2\n",
      "row2    b  2:3    2    3\n"
     ]
    }
   ],
   "source": [
    "# 分列\n",
    "col2 = pd.DataFrame((x.split(\":\") for x in df.col2),index=df.index,columns=['col3','col4'])\n",
    "print(col2)\n",
    "print(pd.concat([df,col2],axis=1))"
   ]
  },
  {
   "cell_type": "code",
   "execution_count": 69,
   "metadata": {
    "collapsed": false,
    "scrolled": false
   },
   "outputs": [
    {
     "name": "stdout",
     "output_type": "stream",
     "text": [
      "  col_mul\n",
      "0     1,2\n",
      "1     1,3\n",
      "2     2,3\n",
      "3       2\n",
      "4     2,3\n",
      "5     1,4\n",
      "6     1,2\n",
      "7     3,4\n",
      "8     3,4\n",
      "9     2,4\n",
      "\n",
      "  col_mul   col1   col2   col3   col4\n",
      "0     1,2   True   True  False  False\n",
      "1     1,3   True  False   True  False\n",
      "2     2,3  False   True   True  False\n",
      "3       2  False   True  False  False\n",
      "4     2,3  False   True   True  False\n",
      "5     1,4   True  False  False   True\n",
      "6     1,2   True   True  False  False\n",
      "7     3,4  False  False   True   True\n",
      "8     3,4  False  False   True   True\n",
      "9     2,4  False   True  False   True\n",
      "\n",
      "0    1\n",
      "1    1\n",
      "2    0\n",
      "3    0\n",
      "4    0\n",
      "5    1\n",
      "6    1\n",
      "7    0\n",
      "8    0\n",
      "9    0\n",
      "Name: col1, dtype: int8\n",
      "\n"
     ]
    },
    {
     "data": {
      "text/html": [
       "<div>\n",
       "<table border=\"1\" class=\"dataframe\">\n",
       "  <thead>\n",
       "    <tr style=\"text-align: right;\">\n",
       "      <th></th>\n",
       "      <th>col1</th>\n",
       "      <th>col2</th>\n",
       "      <th>col3</th>\n",
       "      <th>col4</th>\n",
       "    </tr>\n",
       "  </thead>\n",
       "  <tbody>\n",
       "    <tr>\n",
       "      <th>0</th>\n",
       "      <td>1</td>\n",
       "      <td>1</td>\n",
       "      <td>0</td>\n",
       "      <td>0</td>\n",
       "    </tr>\n",
       "    <tr>\n",
       "      <th>1</th>\n",
       "      <td>1</td>\n",
       "      <td>0</td>\n",
       "      <td>1</td>\n",
       "      <td>0</td>\n",
       "    </tr>\n",
       "    <tr>\n",
       "      <th>2</th>\n",
       "      <td>0</td>\n",
       "      <td>1</td>\n",
       "      <td>1</td>\n",
       "      <td>0</td>\n",
       "    </tr>\n",
       "    <tr>\n",
       "      <th>3</th>\n",
       "      <td>0</td>\n",
       "      <td>1</td>\n",
       "      <td>0</td>\n",
       "      <td>0</td>\n",
       "    </tr>\n",
       "    <tr>\n",
       "      <th>4</th>\n",
       "      <td>0</td>\n",
       "      <td>1</td>\n",
       "      <td>1</td>\n",
       "      <td>0</td>\n",
       "    </tr>\n",
       "    <tr>\n",
       "      <th>5</th>\n",
       "      <td>1</td>\n",
       "      <td>0</td>\n",
       "      <td>0</td>\n",
       "      <td>1</td>\n",
       "    </tr>\n",
       "    <tr>\n",
       "      <th>6</th>\n",
       "      <td>1</td>\n",
       "      <td>1</td>\n",
       "      <td>0</td>\n",
       "      <td>0</td>\n",
       "    </tr>\n",
       "    <tr>\n",
       "      <th>7</th>\n",
       "      <td>0</td>\n",
       "      <td>0</td>\n",
       "      <td>1</td>\n",
       "      <td>1</td>\n",
       "    </tr>\n",
       "    <tr>\n",
       "      <th>8</th>\n",
       "      <td>0</td>\n",
       "      <td>0</td>\n",
       "      <td>1</td>\n",
       "      <td>1</td>\n",
       "    </tr>\n",
       "    <tr>\n",
       "      <th>9</th>\n",
       "      <td>0</td>\n",
       "      <td>1</td>\n",
       "      <td>0</td>\n",
       "      <td>1</td>\n",
       "    </tr>\n",
       "  </tbody>\n",
       "</table>\n",
       "</div>"
      ],
      "text/plain": [
       "   col1  col2  col3  col4\n",
       "0     1     1     0     0\n",
       "1     1     0     1     0\n",
       "2     0     1     1     0\n",
       "3     0     1     0     0\n",
       "4     0     1     1     0\n",
       "5     1     0     0     1\n",
       "6     1     1     0     0\n",
       "7     0     0     1     1\n",
       "8     0     0     1     1\n",
       "9     0     1     0     1"
      ]
     },
     "execution_count": 69,
     "metadata": {},
     "output_type": "execute_result"
    }
   ],
   "source": [
    "# 多选转为哑变量\n",
    "df_mul = DataFrame({'col_mul':['1,2','1,3','2,3','2','2,3','1,4','1,2','3,4','3,4','2,4']})\n",
    "print(df_mul)\n",
    "\n",
    "print()\n",
    "df_mul['col1'] = df_mul['col_mul'].str.contains('1')\n",
    "df_mul['col2'] = df_mul['col_mul'].str.contains('2')\n",
    "df_mul['col3'] = df_mul['col_mul'].str.contains('3')\n",
    "df_mul['col4'] = df_mul['col_mul'].str.contains('4')\n",
    "print(df_mul)\n",
    "\n",
    "print()\n",
    "print(df_mul['col1'].astype(dtype=np.int8))\n",
    "print()\n",
    "df_mul.loc[:,['col1','col2','col3','col4']].apply(lambda x:x.astype(np.int8))"
   ]
  },
  {
   "cell_type": "code",
   "execution_count": null,
   "metadata": {
    "collapsed": true
   },
   "outputs": [],
   "source": []
  },
  {
   "cell_type": "code",
   "execution_count": null,
   "metadata": {
    "collapsed": true
   },
   "outputs": [],
   "source": []
  },
  {
   "cell_type": "code",
   "execution_count": null,
   "metadata": {
    "collapsed": true
   },
   "outputs": [],
   "source": []
  },
  {
   "cell_type": "code",
   "execution_count": null,
   "metadata": {
    "collapsed": true
   },
   "outputs": [],
   "source": []
  },
  {
   "cell_type": "code",
   "execution_count": null,
   "metadata": {
    "collapsed": true
   },
   "outputs": [],
   "source": []
  },
  {
   "cell_type": "code",
   "execution_count": null,
   "metadata": {
    "collapsed": true
   },
   "outputs": [],
   "source": []
  }
 ],
 "metadata": {
  "kernelspec": {
   "display_name": "Python 3",
   "language": "python",
   "name": "python3"
  },
  "language_info": {
   "codemirror_mode": {
    "name": "ipython",
    "version": 3
   },
   "file_extension": ".py",
   "mimetype": "text/x-python",
   "name": "python",
   "nbconvert_exporter": "python",
   "pygments_lexer": "ipython3",
   "version": "3.6.0"
  }
 },
 "nbformat": 4,
 "nbformat_minor": 2
}
