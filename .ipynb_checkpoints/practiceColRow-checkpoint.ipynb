{
 "cells": [
  {
   "cell_type": "code",
   "execution_count": 9,
   "metadata": {
    "collapsed": true
   },
   "outputs": [],
   "source": [
    "from pandas import DataFrame,Series\n",
    "import pandas as pd\n",
    "import numpy as np"
   ]
  },
  {
   "cell_type": "code",
   "execution_count": 10,
   "metadata": {
    "collapsed": false
   },
   "outputs": [
    {
     "name": "stdout",
     "output_type": "stream",
     "text": [
      "      col1  col2  col3  col4\n",
      "row1     0     1     2     3\n",
      "row2     4     5     6     7\n",
      "row3     8     9    10    11\n",
      "row4    12    13    14    15\n"
     ]
    }
   ],
   "source": [
    "df = DataFrame(np.arange(16).reshape([4,4]),index=['row1','row2','row3','row4'],columns=['col1','col2','col3','col4'])\n",
    "print(df)"
   ]
  },
  {
   "cell_type": "code",
   "execution_count": 25,
   "metadata": {
    "collapsed": false,
    "scrolled": false
   },
   "outputs": [
    {
     "name": "stdout",
     "output_type": "stream",
     "text": [
      "      col1  col2  col3  col4\n",
      "row1     0     1     2     3\n",
      "col1    0\n",
      "col2    1\n",
      "col3    2\n",
      "col4    3\n",
      "Name: row1, dtype: int32\n",
      "col1    0\n",
      "col2    1\n",
      "col3    2\n",
      "col4    3\n",
      "Name: row1, dtype: int32\n",
      "col1    0\n",
      "col2    1\n",
      "col3    2\n",
      "col4    3\n",
      "Name: row1, dtype: int32\n",
      "\n",
      "row1     0\n",
      "row2     4\n",
      "row3     8\n",
      "row4    12\n",
      "Name: col1, dtype: int32\n",
      "row1     0\n",
      "row2     4\n",
      "row3     8\n",
      "row4    12\n",
      "Name: col1, dtype: int32\n",
      "row1     0\n",
      "row2     4\n",
      "row3     8\n",
      "row4    12\n",
      "Name: col1, dtype: int32\n",
      "\n",
      "0\n",
      "0\n",
      "\n",
      "      col1  col2\n",
      "row1     0     1\n",
      "row2     4     5\n",
      "      col1  col2\n",
      "row1     0     1\n",
      "row2     4     5\n",
      "\n",
      "      col1  col2  col3  col4\n",
      "row1     0     1     2     3\n",
      "row2     4     5     6     7\n",
      "      col1  col2  col3  col4\n",
      "row1   NaN   NaN   NaN   NaN\n",
      "row2   NaN   NaN   NaN   7.0\n",
      "row3   8.0   9.0  10.0  11.0\n",
      "row4  12.0  13.0  14.0  15.0\n"
     ]
    }
   ],
   "source": [
    "#选取某一行\n",
    "print(df[0:1])\n",
    "print(df.loc['row1',:])\n",
    "print(df.iloc[0,:])\n",
    "print(df.ix[0])\n",
    "\n",
    "#选取某一列\n",
    "print()\n",
    "print(df['col1'])\n",
    "print(df.loc[:,'col1'])\n",
    "print(df.iloc[:,0])\n",
    "\n",
    "#选取某一点\n",
    "print()\n",
    "print(df.at['row1','col1'])\n",
    "print(df.iat[0,0])\n",
    "\n",
    "#选取某一块\n",
    "print()\n",
    "print(df.loc[['row1','row2'],['col1','col2']])\n",
    "print(df.iloc[[0,1],[0,1]])\n",
    "\n",
    "#条件选取某一行\n",
    "print()\n",
    "print(df[df.col1.isin([0,4])])\n",
    "print(df[df>6])"
   ]
  },
  {
   "cell_type": "code",
   "execution_count": 65,
   "metadata": {
    "collapsed": false
   },
   "outputs": [
    {
     "name": "stdout",
     "output_type": "stream",
     "text": [
      "      col1  col2  col3  col4\n",
      "row1     0     1     2     3\n",
      "row2     4     5     6     7\n",
      "row3     8     9    10    11\n",
      "row4    12    13    14    15\n",
      "\n",
      "            col1       col2       col3       col4\n",
      "count   4.000000   4.000000   4.000000   4.000000\n",
      "mean    6.000000   7.000000   8.000000   9.000000\n",
      "std     5.163978   5.163978   5.163978   5.163978\n",
      "min     0.000000   1.000000   2.000000   3.000000\n",
      "25%     3.000000   4.000000   5.000000   6.000000\n",
      "50%     6.000000   7.000000   8.000000   9.000000\n",
      "75%     9.000000  10.000000  11.000000  12.000000\n",
      "max    12.000000  13.000000  14.000000  15.000000\n",
      "\n",
      "col1    6.0\n",
      "col2    7.0\n",
      "col3    8.0\n",
      "col4    9.0\n",
      "dtype: float64\n",
      "row1     1.5\n",
      "row2     5.5\n",
      "row3     9.5\n",
      "row4    13.5\n",
      "dtype: float64\n",
      "\n",
      "12\n",
      "      col1  col2  col3  col4\n",
      "row1     1     2     3     4\n",
      "row1     1\n",
      "row2     5\n",
      "row3     9\n",
      "row4    13\n",
      "Name: col1, dtype: int64\n",
      "\n",
      "---------------\n",
      "      col5\n",
      "row1    11\n",
      "row2    22\n",
      "row3    33\n",
      "row4    44\n",
      "      col1  col2  col3  col4  col5\n",
      "row1     0     1     2     3    11\n",
      "row2     4     5     6     7    22\n",
      "row3     8     9    10    11    33\n",
      "row4    12    13    14    15    44\n",
      "---------------\n",
      "      col1  col2  col3  col4\n",
      "row5   111   222  3333   444\n",
      "      col1  col2  col3  col4\n",
      "row1     0     1     2     3\n",
      "row2     4     5     6     7\n",
      "row3     8     9    10    11\n",
      "row4    12    13    14    15\n",
      "row5   111   222  3333   444\n",
      "\n",
      "      col1  col2  col3  col4    col5\n",
      "row1     0     1     2     3  class1\n",
      "row2     4     5     6     7  class1\n",
      "row3     8     9    10    11  class2\n",
      "row4    12    13    14    15  class2\n",
      "------------------\n",
      "[('class1',       col1  col2  col3  col4    col5\n",
      "row1     0     1     2     3  class1\n",
      "row2     4     5     6     7  class1), ('class2',       col1  col2  col3  col4    col5\n",
      "row3     8     9    10    11  class2\n",
      "row4    12    13    14    15  class2)]\n"
     ]
    }
   ],
   "source": [
    "print(df)\n",
    "\n",
    "print()\n",
    "print(df.describe())\n",
    "\n",
    "#求均值\n",
    "print()\n",
    "print(df.mean())\n",
    "print(df.mean(1))\n",
    "\n",
    "#求max\n",
    "print()\n",
    "print(df.col1.max())\n",
    "\n",
    "# apply\n",
    "format = lambda x:x+1\n",
    "print(df[0:1].apply(format))\n",
    "def fun(x):\n",
    "    return x+1\n",
    "print(df.col1.apply(fun))\n",
    "\n",
    "# concat\n",
    "print()\n",
    "col5 = DataFrame({'col5':[11,22,33,44]},index=['row1','row2','row3','row4'])\n",
    "print('---------------')\n",
    "print(col5)\n",
    "print(pd.concat([df,col5],axis=1))\n",
    "row5 = DataFrame({'col1':111,'col2':222,'col3':3333,'col4':444},index=['row5'])\n",
    "print('---------------')\n",
    "print(row5)\n",
    "print(df.append(row5))\n",
    "\n",
    "#groupby\n",
    "print()\n",
    "col5 = DataFrame({'col5':['class1','class1','class2','class2']},index=['row1','row2','row3','row4'])\n",
    "df1 = pd.concat([df,col5],axis=1)\n",
    "print(df1)\n",
    "print('------------------')\n",
    "group = df1.groupby(df1.col5)\n",
    "print([x for x in group])"
   ]
  },
  {
   "cell_type": "code",
   "execution_count": null,
   "metadata": {
    "collapsed": true
   },
   "outputs": [],
   "source": []
  },
  {
   "cell_type": "code",
   "execution_count": null,
   "metadata": {
    "collapsed": true
   },
   "outputs": [],
   "source": []
  },
  {
   "cell_type": "code",
   "execution_count": null,
   "metadata": {
    "collapsed": true
   },
   "outputs": [],
   "source": []
  },
  {
   "cell_type": "code",
   "execution_count": null,
   "metadata": {
    "collapsed": true
   },
   "outputs": [],
   "source": []
  },
  {
   "cell_type": "code",
   "execution_count": null,
   "metadata": {
    "collapsed": true
   },
   "outputs": [],
   "source": []
  },
  {
   "cell_type": "code",
   "execution_count": null,
   "metadata": {
    "collapsed": true
   },
   "outputs": [],
   "source": []
  }
 ],
 "metadata": {
  "kernelspec": {
   "display_name": "Python 3",
   "language": "python",
   "name": "python3"
  },
  "language_info": {
   "codemirror_mode": {
    "name": "ipython",
    "version": 3
   },
   "file_extension": ".py",
   "mimetype": "text/x-python",
   "name": "python",
   "nbconvert_exporter": "python",
   "pygments_lexer": "ipython3",
   "version": "3.6.0"
  }
 },
 "nbformat": 4,
 "nbformat_minor": 2
}
