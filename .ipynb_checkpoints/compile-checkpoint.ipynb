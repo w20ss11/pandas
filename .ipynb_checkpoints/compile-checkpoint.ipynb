{
 "cells": [
  {
   "cell_type": "code",
   "execution_count": 2,
   "metadata": {
    "collapsed": true
   },
   "outputs": [],
   "source": [
    "import pandas as pd\n",
    "from pandas import DataFrame,Series\n",
    "import numpy as np\n",
    "import re"
   ]
  },
  {
   "cell_type": "code",
   "execution_count": 10,
   "metadata": {
    "collapsed": false
   },
   "outputs": [
    {
     "name": "stdout",
     "output_type": "stream",
     "text": [
      "['haha heihei ', 'hehe xixi haahaa 110  1232312']\n",
      "['haha', 'haahaa']\n",
      "haha\n",
      "haha\n",
      "haha heihei ,hehe xixi haahaa 12320  12320\n"
     ]
    }
   ],
   "source": [
    "txt = 'haha heihei ,hehe xixi haahaa 110  1232312'\n",
    "pattern1 = re.compile(',')\n",
    "print(pattern1.split(txt))\n",
    "\n",
    "pattern2 = re.compile('ha\\w*')\n",
    "print(pattern2.findall(txt))\n",
    "\n",
    "m = pattern2.search(txt)\n",
    "print(txt[m.start():m.end()])\n",
    "\n",
    "m = pattern2.match(txt)\n",
    "print(txt[m.start():m.end()])#match 只匹配字符串的开头部分\n",
    "\n",
    "pattern3 = re.compile('\\d+')\n",
    "print(pattern3.sub('12320',txt))"
   ]
  },
  {
   "cell_type": "code",
   "execution_count": 12,
   "metadata": {
    "collapsed": false
   },
   "outputs": [
    {
     "name": "stdout",
     "output_type": "stream",
     "text": [
      "('ang', 'ing')\n"
     ]
    }
   ],
   "source": [
    "text = 'chuang qian ming yue guang'\n",
    "pattern = re.compile('(ang)\\D*(ing)')#打包\n",
    "m = pattern.search(text)\n",
    "print(m.groups())"
   ]
  },
  {
   "cell_type": "code",
   "execution_count": 22,
   "metadata": {
    "collapsed": false
   },
   "outputs": [
    {
     "name": "stdout",
     "output_type": "stream",
     "text": [
      "               col\n",
      "0    (01)1872-8756\n",
      "1     Body shop P1\n",
      "2         Book B13\n",
      "3    (05)9212-0098\n",
      "4  PD(05)9206-4571\n",
      "5   Shu shuo phone\n",
      "6   (12) 6753-5513\n",
      "7        None here\n",
      "8  PD(12)6434-4532\n",
      "9       P&DWashing\n",
      "\n",
      "           col_new\n",
      "0    (01)1872-8756\n",
      "1    (05)9212-0098\n",
      "2  PD(05)9206-4571\n",
      "3   (12) 6753-5513\n",
      "4  PD(12)6434-4532\n"
     ]
    }
   ],
   "source": [
    "txt = ['(01)1872-8756','Body shop P1','Book B13','(05)9212-0098','PD(05)9206-4571','Shu shuo phone',\n",
    "       '(12) 6753-5513','None here','PD(12)6434-4532','P&DWashing']\n",
    "df = DataFrame({'col':txt})\n",
    "print(df)\n",
    "\n",
    "print()\n",
    "pattern = re.compile('P?D?\\D\\d{2}\\D\\s?\\d{4}-\\d{4}')\n",
    "res = [] #存储匹配的行结果\n",
    "for i in df['col']:\n",
    "    if re.findall(pattern,i):\n",
    "        res.append(i)\n",
    "df_res = DataFrame(res,columns=['col_new'])\n",
    "print(df_res)"
   ]
  },
  {
   "cell_type": "code",
   "execution_count": null,
   "metadata": {
    "collapsed": true
   },
   "outputs": [],
   "source": [
    "txt = ['(01)1872-8756','Body shop P1','Book B13','(05)9212-0098','PD(05)9206-4571','Shu shuo phone',\n",
    "       '(12) 6753-5513','None here','PD(12)6434-4532','P&DWashing']\n",
    "df = DataFrame({'col':txt})\n",
    "print(df)\n",
    "\n",
    "print()\n",
    "pattern = re.compile('P?D?\\D\\d{2}\\D\\s?\\d{4}-\\d{4}')"
   ]
  },
  {
   "cell_type": "code",
   "execution_count": null,
   "metadata": {
    "collapsed": true
   },
   "outputs": [],
   "source": []
  },
  {
   "cell_type": "code",
   "execution_count": null,
   "metadata": {
    "collapsed": true
   },
   "outputs": [],
   "source": []
  },
  {
   "cell_type": "code",
   "execution_count": null,
   "metadata": {
    "collapsed": true
   },
   "outputs": [],
   "source": []
  },
  {
   "cell_type": "code",
   "execution_count": null,
   "metadata": {
    "collapsed": true
   },
   "outputs": [],
   "source": []
  },
  {
   "cell_type": "code",
   "execution_count": null,
   "metadata": {
    "collapsed": true
   },
   "outputs": [],
   "source": []
  },
  {
   "cell_type": "code",
   "execution_count": null,
   "metadata": {
    "collapsed": true
   },
   "outputs": [],
   "source": []
  },
  {
   "cell_type": "code",
   "execution_count": null,
   "metadata": {
    "collapsed": true
   },
   "outputs": [],
   "source": []
  },
  {
   "cell_type": "code",
   "execution_count": null,
   "metadata": {
    "collapsed": true
   },
   "outputs": [],
   "source": []
  },
  {
   "cell_type": "code",
   "execution_count": null,
   "metadata": {
    "collapsed": true
   },
   "outputs": [],
   "source": []
  }
 ],
 "metadata": {
  "kernelspec": {
   "display_name": "Python 3",
   "language": "python",
   "name": "python3"
  },
  "language_info": {
   "codemirror_mode": {
    "name": "ipython",
    "version": 3
   },
   "file_extension": ".py",
   "mimetype": "text/x-python",
   "name": "python",
   "nbconvert_exporter": "python",
   "pygments_lexer": "ipython3",
   "version": "3.6.0"
  }
 },
 "nbformat": 4,
 "nbformat_minor": 2
}
