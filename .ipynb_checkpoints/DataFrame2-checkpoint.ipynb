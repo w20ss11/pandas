{
 "cells": [
  {
   "cell_type": "code",
   "execution_count": 1,
   "metadata": {
    "collapsed": true
   },
   "outputs": [],
   "source": [
    "import numpy as np\n",
    "from pandas import DataFrame,Series"
   ]
  },
  {
   "cell_type": "code",
   "execution_count": 2,
   "metadata": {
    "collapsed": false
   },
   "outputs": [
    {
     "name": "stdout",
     "output_type": "stream",
     "text": [
      "  h1 h2 h3 h4 h5\n",
      "0  A  B  C  D  Z\n",
      "1  E  A  G  H  Y\n",
      "2  I  J  K  L  A\n"
     ]
    }
   ],
   "source": [
    "df = DataFrame([list(\"ABCDZ\"),list(\"EAGHY\"), list(\"IJKLA\")], columns = [\"h1\",\"h2\",\"h3\",\"h4\", \"h5\"])\n",
    "print(df)"
   ]
  },
  {
   "cell_type": "code",
   "execution_count": 3,
   "metadata": {
    "collapsed": false
   },
   "outputs": [
    {
     "name": "stdout",
     "output_type": "stream",
     "text": [
      "      col1  col2  col3  col4\n",
      "row1     0     1     2     3\n",
      "row2     4     5     6     7\n",
      "row3     8     9    10    11\n",
      "row4    12    13    14    15\n"
     ]
    }
   ],
   "source": [
    "df1 = DataFrame(np.arange(16).reshape([4,4]),columns=['col1','col2','col3','col4'],index=['row1','row2','row3','row4'])\n",
    "print(df1)"
   ]
  },
  {
   "cell_type": "code",
   "execution_count": 24,
   "metadata": {
    "collapsed": false
   },
   "outputs": [
    {
     "name": "stdout",
     "output_type": "stream",
     "text": [
      "      col1  col2  col3  col4\n",
      "row1     2     3     4     5\n",
      "row2     6     7     8     9\n",
      "row3    10    11    12    13\n",
      "row4    14    15    16    17\n",
      "\n",
      "row1     2\n",
      "row2     6\n",
      "row3    10\n",
      "row4    14\n",
      "Name: col1, dtype: int64\n",
      "\n",
      "      col1  col2  col3  col4\n",
      "row2   115   116   117   118\n",
      "df:\n",
      "      col1  col2  col3  col4\n",
      "row1     0     1     2     3\n",
      "row2     4     5     6     7\n",
      "row3     8     9    10    11\n",
      "row4    12    13    14    15\n",
      "行最大\n",
      "row1     3\n",
      "row2     7\n",
      "row3    11\n",
      "row4    15\n",
      "dtype: int64\n",
      "\n",
      "col1    4\n",
      "col2    5\n",
      "col3    6\n",
      "col4    7\n",
      "dtype: int64\n"
     ]
    }
   ],
   "source": [
    "#apply\n",
    "format = lambda x:x+2\n",
    "print(df1.apply(format))\n",
    "print()\n",
    "print(df1.col1.apply(format))\n",
    "\n",
    "def fun(x):\n",
    "    return x+111\n",
    "def f(x):\n",
    "    return x.max()\n",
    "\n",
    "print()\n",
    "print(df1[1:2].apply(fun))\n",
    "\n",
    "print('df:')\n",
    "print(df1)\n",
    "print('行最大')\n",
    "print(df1.apply(f,axis=1))\n",
    "\n",
    "print()\n",
    "print(df1[:2].apply(f))"
   ]
  },
  {
   "cell_type": "code",
   "execution_count": 36,
   "metadata": {
    "collapsed": false
   },
   "outputs": [
    {
     "name": "stdout",
     "output_type": "stream",
     "text": [
      "      col1  col2  col3  col4\n",
      "row1     0     1     2     3\n",
      "row2     4     5     6     7\n",
      "row3     8     9    10    11\n",
      "row4    12    13    14    15\n",
      "\n",
      "col1    0\n",
      "col2    1\n",
      "col3    2\n",
      "col4    3\n",
      "Name: row1, dtype: int32\n",
      "\n",
      "col1    0\n",
      "col2    1\n",
      "col3    2\n",
      "col4    3\n",
      "Name: row1, dtype: int32\n",
      "col1    0\n",
      "col2    1\n",
      "col3    2\n",
      "col4    3\n",
      "Name: row1, dtype: int32\n"
     ]
    }
   ],
   "source": [
    "#区分loc iloc ix ；df.col1 df['col1'] df[1:2]\n",
    "print(df1)\n",
    "\n",
    "print()\n",
    "print(df1.ix['row1'])\n",
    "\n",
    "print()\n",
    "print(df1.ix[0])\n",
    "\n",
    "print(df1.iloc[0])\n"
   ]
  },
  {
   "cell_type": "code",
   "execution_count": 42,
   "metadata": {
    "collapsed": false
   },
   "outputs": [
    {
     "name": "stdout",
     "output_type": "stream",
     "text": [
      "row1      haha\n",
      "row2      hehe\n",
      "row3    heihei\n",
      "dtype: object\n",
      "\n",
      "row1    haha\n",
      "row2    hehe\n",
      "row3    hfhf\n",
      "dtype: object\n"
     ]
    }
   ],
   "source": [
    "#Series的str字符串方法\n",
    "s = Series(['haha','hehe','heihei'],index=['row1','row2','row3'])\n",
    "print(s)\n",
    "\n",
    "print()\n",
    "print(s.str.replace('heihei','hfhf'))"
   ]
  },
  {
   "cell_type": "code",
   "execution_count": 61,
   "metadata": {
    "collapsed": false
   },
   "outputs": [
    {
     "name": "stdout",
     "output_type": "stream",
     "text": [
      "      col1  col2  col3  col4\n",
      "row1     0     1     2     3\n",
      "row2     4     5     6     7\n",
      "row3     8     9    10    11\n",
      "row4    12    13    14    15\n",
      "\n",
      "      col1  col2  col3  col4  col5\n",
      "row1     0     1     2     3    11\n",
      "row2     4     5     6     7    22\n",
      "row3     8     9    10    11    33\n",
      "row4    12    13    14    15    44\n",
      "\n",
      "      col1  col2  col3  col4\n",
      "row5     0     1     2     3\n",
      "\n",
      "      col1  col2  col3  col4\n",
      "row1     0     1     2     3\n",
      "row2     4     5     6     7\n",
      "row3     8     9    10    11\n",
      "row4    12    13    14    15\n",
      "row5     0     1     2     3\n",
      "      col1  col2  col3  col4\n",
      "row1     0     1     2     3\n",
      "row2     4     5     6     7\n",
      "row3     8     9    10    11\n",
      "row4    12    13    14    15\n",
      "row5     0     1     2     3\n"
     ]
    }
   ],
   "source": [
    "import pandas as pd\n",
    "print(df1)\n",
    "\n",
    "print()#定义一列然后合并 concat 需要指定axis\n",
    "col5 = Series([11,22,33,44],index = ['row1','row2','row3','row4'])\n",
    "df2 = DataFrame(col5,columns=['col5'])\n",
    "print(pd.concat([df1,df2],axis=1))\n",
    "\n",
    "print()#定义一行然后合并concat\n",
    "row5 = DataFrame(np.arange(4).reshape([1,4]),columns=['col1','col2','col3','col4'],index=['row5'])\n",
    "print(row5)\n",
    "print()\n",
    "print(pd.concat([df1,row5]))\n",
    "\n",
    "print()#定义一行然后合并append\n",
    "print(df1.append(row5))"
   ]
  },
  {
   "cell_type": "code",
   "execution_count": 70,
   "metadata": {
    "collapsed": false
   },
   "outputs": [
    {
     "name": "stdout",
     "output_type": "stream",
     "text": [
      "      col1  col2  col3  col4\n",
      "row1     0     1     2     3\n",
      "row2     4     5     6     7\n",
      "row3     8     9    10    11\n",
      "row4    12    13    14    15\n",
      "      col1  col2  col3  col4 col5\n",
      "row1     0     1     2     3  one\n",
      "row2     4     5     6     7  one\n",
      "row3     8     9    10    11  two\n",
      "row4    12    13    14    15  two\n",
      "\n",
      "[('one',       col1  col2  col3  col4 col5\n",
      "row1     0     1     2     3  one\n",
      "row2     4     5     6     7  one), ('two',       col1  col2  col3  col4 col5\n",
      "row3     8     9    10    11  two\n",
      "row4    12    13    14    15  two)]\n",
      "------- grout sum -------------\n",
      "      col1  col2  col3  col4\n",
      "col5                        \n",
      "one      4     6     8    10\n",
      "two     20    22    24    26\n"
     ]
    }
   ],
   "source": [
    "# 分组groupby\n",
    "print(df1)\n",
    "col5 = Series(['one','one','two','two'],index = ['row1','row2','row3','row4'])\n",
    "df2 = DataFrame(col5,columns=['col5'])\n",
    "df3 = pd.concat([df1,df2],axis=1)\n",
    "print(df3)\n",
    "\n",
    "print()\n",
    "group = df3.groupby(['col5'])\n",
    "print([x for x in group])\n",
    "print('------- grout sum -------------')\n",
    "print(group.sum())"
   ]
  },
  {
   "cell_type": "code",
   "execution_count": 79,
   "metadata": {
    "collapsed": false
   },
   "outputs": [
    {
     "name": "stdout",
     "output_type": "stream",
     "text": [
      "      col1  col2  col3  col4\n",
      "row1     0     1     2     3\n",
      "row2     4     5     6     7\n",
      "row3     8     9    10    11\n",
      "row4    12    13    14    15\n",
      "row1  col1     0\n",
      "      col2     1\n",
      "      col3     2\n",
      "      col4     3\n",
      "row2  col1     4\n",
      "      col2     5\n",
      "      col3     6\n",
      "      col4     7\n",
      "row3  col1     8\n",
      "      col2     9\n",
      "      col3    10\n",
      "      col4    11\n",
      "row4  col1    12\n",
      "      col2    13\n",
      "      col3    14\n",
      "      col4    15\n",
      "dtype: int32\n",
      "\n",
      "      row1  row2  row3  row4\n",
      "col1     0     4     8    12\n",
      "\n",
      "      col\n",
      "row1    1\n",
      "row2    2\n",
      "row3    3\n",
      "row4    4\n",
      "\n",
      "row1  col    1\n",
      "row2  col    2\n",
      "row3  col    3\n",
      "row4  col    4\n",
      "dtype: int64\n"
     ]
    }
   ],
   "source": [
    "# stack\n",
    "print(df1)\n",
    "print(df1.stack())\n",
    "\n",
    "dft = df1.T\n",
    "print()\n",
    "print(dft[0:1])\n",
    "\n",
    "print()\n",
    "df4 = DataFrame(Series([1,2,3,4],index=['row1','row2','row3','row4']),columns=['col'])\n",
    "print(df4)\n",
    "print()\n",
    "df5 = df4.stack()\n",
    "print(df5)"
   ]
  },
  {
   "cell_type": "code",
   "execution_count": 99,
   "metadata": {
    "collapsed": false
   },
   "outputs": [
    {
     "name": "stdout",
     "output_type": "stream",
     "text": [
      "       CType  EU   Item USD\n",
      "row0    Gold  1e  item0  1$\n",
      "row1  Bronze  2e  item0  2$\n",
      "row2    Gold  3e  item1  3$\n",
      "row3  Silver  4e  item1  4$\n",
      "\n",
      "CType Bronze Gold Silver\n",
      "Item                    \n",
      "item0     2$   1$   None\n",
      "item1   None   3$     4$\n",
      "\n",
      "['1$']\n",
      "['1$']\n",
      "['Gold']\n",
      "\n",
      "          EU                USD            \n",
      "CType Bronze Gold Silver Bronze Gold Silver\n",
      "Item                                       \n",
      "item0     2e   1e   None     2$   1$   None\n",
      "item1   None   3e     4e   None   3$     4$\n",
      "\n",
      "['1$']\n",
      "['1$']\n",
      "\n",
      "          EU                USD            \n",
      "CType Bronze Gold Silver Bronze Gold Silver\n",
      "Item                                       \n",
      "item0     2e   1e   None     2$   1$   None\n",
      "item1   None   3e     4e   None   3$     4$\n",
      "------- stack ----------\n",
      "              EU USD\n",
      "Item  CType         \n",
      "item0 Bronze  2e  2$\n",
      "      Gold    1e  1$\n",
      "item1 Gold    3e  3$\n",
      "      Silver  4e  4$\n",
      "\n",
      "CType Bronze Gold Silver\n",
      "Item                    \n",
      "item0     2$   1$   None\n",
      "item1   None   3$     4$\n",
      "------- stack -----------\n",
      "Item   CType \n",
      "item0  Bronze    2$\n",
      "       Gold      1$\n",
      "item1  Gold      3$\n",
      "       Silver    4$\n",
      "dtype: object\n"
     ]
    }
   ],
   "source": [
    "# reshape 重塑\n",
    "df4 = DataFrame({'Item':['item0','item0','item1','item1'],'CType':['Gold','Bronze','Gold','Silver'],'USD':['1$','2$','3$','4$'],\n",
    "                        'EU':['1e','2e','3e','4e']},index=['row0','row1','row2','row3'])\n",
    "print(df4)\n",
    "\n",
    "print()#重塑表\n",
    "d = df4.pivot(index='Item',columns='CType',values='USD')\n",
    "print(d)\n",
    "\n",
    "print()\n",
    "print(df4[(df4.Item=='item0')&(df4.CType=='Gold')].USD.values)#df4[] d[] 都是行切片方式，在[]里为选取某行的条件\n",
    "print(d[d.index=='item0'].Gold.values)\n",
    "print(df4[df4.index=='row2'].CType.values)\n",
    "\n",
    "print()#重塑表\n",
    "dd = df4.pivot(index='Item',columns='CType')\n",
    "print(dd)\n",
    "\n",
    "print()\n",
    "print(df4[(df4.Item=='item0')&(df4.CType=='Gold')].USD.values)\n",
    "print(dd.USD[dd.USD.index=='item0'].Gold.values)\n",
    "#pivot_table可以汇总重复条目的数据\n",
    "\n",
    "print()\n",
    "print(dd)\n",
    "print('------- stack ----------')\n",
    "print(dd.stack())\n",
    "\n",
    "print()\n",
    "print(d)\n",
    "print('------- stack -----------')\n",
    "print(d.stack())"
   ]
  },
  {
   "cell_type": "code",
   "execution_count": 110,
   "metadata": {
    "collapsed": false
   },
   "outputs": [
    {
     "name": "stdout",
     "output_type": "stream",
     "text": [
      "       CType  EU   Item USD CType_new\n",
      "row0    Gold  1e  item0  1$      Gold\n",
      "row1  Bronze  2e  item0  2$    Bronze\n",
      "row2    Gold  3e  item1  3$      Gold\n",
      "row3  Silver  4e  item1  4$    Silver\n",
      "\n",
      "row0      Gold\n",
      "row1    Bronze\n",
      "row2      Gold\n",
      "row3    Silver\n",
      "Name: CType_new, dtype: category\n",
      "Categories (3, object): [Bronze, Gold, Silver]\n",
      "\n",
      "row0    a\n",
      "row1    e\n",
      "row2    a\n",
      "row3    c\n",
      "Name: CType_new, dtype: category\n",
      "Categories (3, object): [e, a, c]\n"
     ]
    }
   ],
   "source": [
    "# 分类变量\n",
    "print(df4)\n",
    "\n",
    "print()\n",
    "#转某一列为分类变量\n",
    "df4['CType_new'] = df4['CType'].astype('category')\n",
    "print(df4['CType_new'])\n",
    "#补全某一列的分类变量\n",
    "df4['CType_new'].cat.categories=['e','a','c']\n",
    "df4['CType_new'].cat.set_categories(['a','b','c','d','e'])\n",
    "print()\n",
    "print(df4['CType_new'])"
   ]
  },
  {
   "cell_type": "code",
   "execution_count": null,
   "metadata": {
    "collapsed": true
   },
   "outputs": [],
   "source": []
  },
  {
   "cell_type": "code",
   "execution_count": null,
   "metadata": {
    "collapsed": true
   },
   "outputs": [],
   "source": []
  }
 ],
 "metadata": {
  "kernelspec": {
   "display_name": "Python 3",
   "language": "python",
   "name": "python3"
  },
  "language_info": {
   "codemirror_mode": {
    "name": "ipython",
    "version": 3
   },
   "file_extension": ".py",
   "mimetype": "text/x-python",
   "name": "python",
   "nbconvert_exporter": "python",
   "pygments_lexer": "ipython3",
   "version": "3.6.0"
  }
 },
 "nbformat": 4,
 "nbformat_minor": 2
}
