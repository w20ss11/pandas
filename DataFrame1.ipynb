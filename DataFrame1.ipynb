{
 "cells": [
  {
   "cell_type": "code",
   "execution_count": 44,
   "metadata": {
    "collapsed": true
   },
   "outputs": [],
   "source": [
    "from pandas import DataFrame,Series"
   ]
  },
  {
   "cell_type": "code",
   "execution_count": 8,
   "metadata": {},
   "outputs": [
    {
     "name": "stdout",
     "output_type": "stream",
     "text": [
      "       conlumn1  conlumn2  conlumn3\n",
      "row11       1.0       NaN       NaN\n",
      "row12       2.0       NaN       NaN\n",
      "row13       3.0       NaN       NaN\n",
      "row21       NaN       4.0       NaN\n",
      "row22       NaN       5.0       NaN\n",
      "row23       NaN       6.0       NaN\n",
      "row31       NaN       NaN       7.0\n",
      "row32       NaN       NaN       8.0\n",
      "row33       NaN       NaN       9.0\n",
      "--------------------------------------------\n",
      "      conlumn1  conlumn2  conlumn3\n",
      "row1         1         4         7\n",
      "row2         2         5         8\n",
      "row3         3         6         9\n"
     ]
    }
   ],
   "source": [
    "# 从 Series 构造\n",
    "d1 = {'conlumn1':Series([1,2,3],index = ['row11','row12','row13']),\n",
    "     'conlumn2':Series([4,5,6],index = ['row21','row22','row23']),\n",
    "     'conlumn3':Series([7,8,9],index = ['row31','row32','row33'])}\n",
    "dataFrame1 = DataFrame(d1)\n",
    "print(dataFrame1)\n",
    "\n",
    "print('--------------------------------------------')\n",
    "\n",
    "d2 = {'conlumn1':Series([1,2,3],index = ['row1','row2','row3']),\n",
    "     'conlumn2':Series([4,5,6],index = ['row1','row2','row3']),\n",
    "     'conlumn3':Series([7,8,9],index = ['row1','row2','row3'])}\n",
    "dataFrame2 = DataFrame(d2)\n",
    "print(dataFrame2)"
   ]
  },
  {
   "cell_type": "code",
   "execution_count": 28,
   "metadata": {},
   "outputs": [
    {
     "name": "stdout",
     "output_type": "stream",
     "text": [
      "[[ 0  1  2  3]\n",
      " [ 4  5  6  7]\n",
      " [ 8  9 10 11]]\n",
      "-----------------------\n",
      "      col1  col2  col3  col4\n",
      "row1     0     1     2     3\n",
      "row2     4     5     6     7\n",
      "row3     8     9    10    11\n",
      "\n",
      "row1    0\n",
      "row2    4\n",
      "row3    8\n",
      "Name: col1, dtype: int32\n"
     ]
    }
   ],
   "source": [
    "#  从 numpy数组 构建\n",
    "import numpy as np\n",
    "d3 = np.arange(12).reshape([3,4])\n",
    "print(d3)\n",
    "print('-----------------------')\n",
    "dataFrame3 = DataFrame(d3,columns = ['col1','col2','col3','col4'],index =['row1','row2','row3'])\n",
    "print(dataFrame3)\n",
    "print()\n",
    "print(dataFrame3['col1'])"
   ]
  },
  {
   "cell_type": "code",
   "execution_count": 23,
   "metadata": {},
   "outputs": [
    {
     "name": "stdout",
     "output_type": "stream",
     "text": [
      "      a  b\n",
      "row1  1  2\n",
      "row2  3  4\n"
     ]
    }
   ],
   "source": [
    "# 从 list的dict 构建\n",
    "d4 = [{'a':1,'b':2},{'a':3,'b':4}]\n",
    "dataFrame4 = DataFrame(d4,index = ['row1','row2'])\n",
    "print(dataFrame4)"
   ]
  },
  {
   "cell_type": "code",
   "execution_count": 15,
   "metadata": {},
   "outputs": [
    {
     "name": "stdout",
     "output_type": "stream",
     "text": [
      "   col1  col2  col3\n",
      "a     1     4     7\n",
      "b     2     5     8\n",
      "c     3     6     9\n",
      "-----------------------------\n",
      "   col1  col2  col3\n",
      "a   NaN   NaN   NaN\n",
      "b   NaN   NaN   NaN\n",
      "c   NaN   NaN   NaN\n",
      "-----------------------------\n",
      "   col1  col2  col3\n",
      "a     1     4     7\n",
      "b     2     5     8\n",
      "c     3     6     9\n",
      "-----------------------------\n",
      "   col1  col2  col3\n",
      "a     0     1     2\n",
      "b     3     4     5\n",
      "c     6     7     8\n"
     ]
    }
   ],
   "source": [
    "# 构建的比较\n",
    "import numpy as np\n",
    "d5 = DataFrame({'col1':Series([1,2,3],index = ('a','b','c')),\n",
    "              'col2':Series([4,5,6],index = ('a','b','c')),\n",
    "              'col3':Series([7,8,9],index = ('a','b','c'))})\n",
    "print(d5)\n",
    "print('-----------------------------')\n",
    "\n",
    "d7 = DataFrame({'col1':Series([1,2,3]),\n",
    "              'col2':Series([4,5,6]),\n",
    "              'col3':Series([7,8,9])},index = ('a','b','c'))\n",
    "print(d7)#Series 中没有index为abc 它的index应该为默认的1 2 3 所以为NaN \n",
    "print('-----------------------------')\n",
    "\n",
    "d6 = DataFrame({'col1':[1,2,3],\n",
    "              'col2':[4,5,6],\n",
    "              'col3':[7,8,9]},index = ('a','b','c'))\n",
    "print(d6)\n",
    "print('-----------------------------')\n",
    "\n",
    "d8 = DataFrame(np.arange(9).reshape([3,3]),index = ('a','b','c'),columns = ('col1','col2','col3'))\n",
    "print(d8)"
   ]
  },
  {
   "cell_type": "code",
   "execution_count": 70,
   "metadata": {
    "scrolled": false
   },
   "outputs": [
    {
     "name": "stdout",
     "output_type": "stream",
     "text": [
      "d9:\n",
      "       col1      col2      col3\n",
      "a  1.107258  0.147878  0.070880\n",
      "b -0.177568 -0.065564  0.285068\n",
      "c  2.235347  0.308207  1.077258\n",
      "\n",
      "sort_values:\n",
      "       col1      col2      col3\n",
      "b -0.177568 -0.065564  0.285068\n",
      "a  1.107258  0.147878  0.070880\n",
      "c  2.235347  0.308207  1.077258\n",
      "\n",
      "sort_index:\n",
      "       col1      col2      col3\n",
      "a  1.107258  0.147878  0.070880\n",
      "b -0.177568 -0.065564  0.285068\n",
      "c  2.235347  0.308207  1.077258\n",
      "\n",
      "       col1      col2     col3\n",
      "a  1.107258  0.147878  0.07088\n",
      "\n",
      "1.10725806146\n",
      "\n",
      "1.10725806146\n",
      "\n",
      "       col1      col2\n",
      "a  1.107258  0.147878\n",
      "b -0.177568 -0.065564\n",
      "c  2.235347  0.308207\n",
      "\n",
      "       col1      col2\n",
      "a  1.107258  0.147878\n",
      "b -0.177568 -0.065564\n"
     ]
    }
   ],
   "source": [
    "d9 = DataFrame(np.random.randn(3,3),index = ('a','b','c'),columns = ('col1','col2','col3'))\n",
    "\n",
    "print('d9:')\n",
    "print(d9)\n",
    "print()\n",
    "\n",
    "# print('describe:')\n",
    "# print(d9.describe())\n",
    "\n",
    "# 按照某一行某一列排序\n",
    "print('sort_values:')\n",
    "print(d9.sort_values(by = 'col1'))\n",
    "print()\n",
    "print('sort_index:')\n",
    "print(d9.sort_index(axis=0,ascending=True))\n",
    "\n",
    "#行切片\n",
    "print()\n",
    "print(d9[:1])\n",
    "\n",
    "print()\n",
    "print(d9.at['a','col1'])\n",
    "\n",
    "print()\n",
    "print(d9.loc['a','col1'])\n",
    "\n",
    "print()\n",
    "print(d9.loc[:,['col1','col2']])\n",
    "\n",
    "print()\n",
    "print(d9.loc[['a','b'],['col1','col2']])"
   ]
  },
  {
   "cell_type": "code",
   "execution_count": 74,
   "metadata": {},
   "outputs": [
    {
     "name": "stdout",
     "output_type": "stream",
     "text": [
      "      col1  col2  col3\n",
      "row1     1     4     7\n",
      "row2     2     5     8\n",
      "row3     3     6     9\n",
      "\n",
      "col1    2\n",
      "col2    5\n",
      "col3    8\n",
      "Name: row2, dtype: int64\n",
      "\n",
      "row1    1\n",
      "row2    2\n",
      "row3    3\n",
      "Name: col1, dtype: int64\n",
      "\n",
      "      col2  col3\n",
      "row2     5     8\n",
      "row3     6     9\n",
      "      col1  col2\n",
      "row1     1     4\n",
      "row2     2     5\n",
      "\n",
      "1\n",
      "1\n"
     ]
    }
   ],
   "source": [
    "d10 = DataFrame({'col1':[1,2,3],\n",
    "              'col2':[4,5,6],\n",
    "              'col3':[7,8,9]},index = ('row1','row2','row3'))\n",
    "print(d10)\n",
    "\n",
    "print()\n",
    "print(d10.iloc[1])\n",
    "print()\n",
    "print(d10.loc[:,'col1'])\n",
    "print()\n",
    "print(d10.iloc[1:,1:])\n",
    "print(d10.iloc[[0,1],[0,1]])\n",
    "\n",
    "print()\n",
    "print(d10.at['row1','col1'])\n",
    "print(d10.iat[0,0])"
   ]
  },
  {
   "cell_type": "code",
   "execution_count": 2,
   "metadata": {},
   "outputs": [
    {
     "name": "stdout",
     "output_type": "stream",
     "text": [
      "   col1  col2  col3\n",
      "0     1     4     7\n",
      "1     2     5     8\n",
      "2     3     6     9\n",
      "   col1  col2  col3\n",
      "0     1     4     7\n",
      "1     2     5     8\n",
      "2     3     6     9\n",
      "4     1     2     2\n"
     ]
    }
   ],
   "source": [
    "import pandas as pd\n",
    "from pandas import DataFrame,Series\n",
    "d11 = DataFrame({'col1':[1,2,3],\n",
    "              'col2':[4,5,6],\n",
    "              'col3':[7,8,9]})\n",
    "\n",
    "print(d11)\n",
    "\n",
    "\n",
    "d11.loc[d11.shape[0]+1]={'col1':1,'col2':2,'col3':2}\n",
    "print(d11)"
   ]
  },
  {
   "cell_type": "code",
   "execution_count": 5,
   "metadata": {},
   "outputs": [
    {
     "name": "stdout",
     "output_type": "stream",
     "text": [
      "Empty DataFrame\n",
      "Columns: [step, value]\n",
      "Index: []\n",
      "  step value\n",
      "1    1     2\n"
     ]
    }
   ],
   "source": [
    "val_acc_df = pd.DataFrame(columns=('step', 'value'))\n",
    "print(val_acc_df)\n",
    "\n",
    "val_acc_df.loc[val_acc_df.shape[0]+1]={'step':1,'value':2}\n",
    "print(val_acc_df)"
   ]
  },
  {
   "cell_type": "code",
   "execution_count": null,
   "metadata": {},
   "outputs": [],
   "source": []
  }
 ],
 "metadata": {
  "kernelspec": {
   "display_name": "Python 3",
   "language": "python",
   "name": "python3"
  },
  "language_info": {
   "codemirror_mode": {
    "name": "ipython",
    "version": 3
   },
   "file_extension": ".py",
   "mimetype": "text/x-python",
   "name": "python",
   "nbconvert_exporter": "python",
   "pygments_lexer": "ipython3",
   "version": "3.6.4"
  }
 },
 "nbformat": 4,
 "nbformat_minor": 2
}
