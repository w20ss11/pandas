{
 "cells": [
  {
   "cell_type": "code",
   "execution_count": 2,
   "metadata": {
    "collapsed": true
   },
   "outputs": [],
   "source": [
    "from pandas import Series,DataFrame"
   ]
  },
  {
   "cell_type": "code",
   "execution_count": 5,
   "metadata": {},
   "outputs": [
    {
     "name": "stdout",
     "output_type": "stream",
     "text": [
      "0    4\n",
      "1    3\n",
      "2   -5\n",
      "3    8\n",
      "dtype: int64\n",
      "------------------------\n",
      "RangeIndex(start=0, stop=4, step=1)\n",
      "[ 4  3 -5  8]\n"
     ]
    }
   ],
   "source": [
    "#定义一个Series\n",
    "obj1 = Series([4,3,-5,8])\n",
    "print(obj1)\n",
    "print('------------------------')\n",
    "print(obj1.index)\n",
    "print(obj1.values)"
   ]
  },
  {
   "cell_type": "code",
   "execution_count": 17,
   "metadata": {},
   "outputs": [
    {
     "name": "stdout",
     "output_type": "stream",
     "text": [
      "a    4\n",
      "b    3\n",
      "c   -5\n",
      "d    7\n",
      "dtype: int64\n",
      "---------------------------\n",
      "Index(['a', 'b', 'c', 'd'], dtype='object')\n",
      "[ 4  3 -5  7]\n",
      "---------------------------\n",
      "4\n",
      "d    7\n",
      "c   -5\n",
      "dtype: int64\n",
      "---------------------------\n",
      "a     8\n",
      "b     6\n",
      "c   -10\n",
      "d    14\n",
      "dtype: int64\n"
     ]
    }
   ],
   "source": [
    "import numpy as np\n",
    "#自定义index\n",
    "obj2 = Series([4,3,-5,7],index = ['a','b','c','d'])\n",
    "print(obj2)\n",
    "print('---------------------------')\n",
    "print(obj2.index)\n",
    "print(obj2.values)\n",
    "print('---------------------------')\n",
    "print(obj2['a'])\n",
    "print(obj2[['d','c']])\n",
    "print('---------------------------')\n",
    "temp = np.sort(obj2)#返回一个数组 没有索引\n",
    "print(obj2*2)"
   ]
  },
  {
   "cell_type": "code",
   "execution_count": 26,
   "metadata": {},
   "outputs": [
    {
     "name": "stdout",
     "output_type": "stream",
     "text": [
      "h    23\n",
      "i    12\n",
      "j    87\n",
      "k    45\n",
      "dtype: int64\n",
      "True\n",
      "False\n",
      "----------------------------\n",
      "h    23.0\n",
      "i    12.0\n",
      "j    87.0\n",
      "l     NaN\n",
      "dtype: float64\n",
      "h    False\n",
      "i    False\n",
      "j    False\n",
      "l     True\n",
      "dtype: bool\n",
      "----------------------------\n",
      "h     46.0\n",
      "i     24.0\n",
      "j    174.0\n",
      "k      NaN\n",
      "l      NaN\n",
      "dtype: float64\n"
     ]
    }
   ],
   "source": [
    "#通过字典生成Series\n",
    "dict = {'h':23,'i':12,'j':87,'k':45}\n",
    "obj3 = Series(dict)\n",
    "print(obj3)\n",
    "print('h' in obj3)\n",
    "print(12 in obj3)\n",
    "print('----------------------------')\n",
    "\n",
    "indexes = ['h','i','j','l']\n",
    "obj4 = Series(obj3,index = indexes)\n",
    "print(obj4)\n",
    "print(obj4.isnull())\n",
    "print('----------------------------')\n",
    "\n",
    "print(obj3+obj4)"
   ]
  },
  {
   "cell_type": "code",
   "execution_count": 35,
   "metadata": {},
   "outputs": [
    {
     "name": "stdout",
     "output_type": "stream",
     "text": [
      "u    4\n",
      "v    2\n",
      "w    6\n",
      "x    3\n",
      "dtype: int64\n",
      "alice    4\n",
      "bob      2\n",
      "cindy    6\n",
      "dumb     3\n",
      "dtype: int64\n",
      "--------------------------\n",
      "indexname\n",
      "alice    4\n",
      "bob      2\n",
      "cindy    6\n",
      "dumb     3\n",
      "Name: objname, dtype: int64\n"
     ]
    }
   ],
   "source": [
    "# name属性\n",
    "obj5 = Series([4,2,6,3],index = ['u','v','w','x'])\n",
    "print(obj5)\n",
    "obj5.index = ['alice','bob','cindy','dumb']\n",
    "print(obj5)\n",
    "print('--------------------------')\n",
    "obj5.name = \"objname\"\n",
    "obj5.index.name = 'indexname'\n",
    "print(obj5)"
   ]
  },
  {
   "cell_type": "code",
   "execution_count": 11,
   "metadata": {},
   "outputs": [
    {
     "name": "stdout",
     "output_type": "stream",
     "text": [
      "o    4\n",
      "p    2\n",
      "q    3\n",
      "r    6\n",
      "dtype: int64\n",
      "--------------------\n",
      "p    2\n",
      "q    3\n",
      "o    4\n",
      "r    6\n",
      "dtype: int64\n"
     ]
    }
   ],
   "source": [
    "# 排序\n",
    "obj6 = Series([4,2,6,3],index = ['o','p','r','q'])\n",
    "temp = obj6.sort_index()\n",
    "print(temp)\n",
    "print('--------------------')\n",
    "temp = obj6.sort_values()\n",
    "print(temp)"
   ]
  },
  {
   "cell_type": "code",
   "execution_count": null,
   "metadata": {
    "collapsed": true
   },
   "outputs": [],
   "source": []
  }
 ],
 "metadata": {
  "kernelspec": {
   "display_name": "Python 3",
   "language": "python",
   "name": "python3"
  },
  "language_info": {
   "codemirror_mode": {
    "name": "ipython",
    "version": 3
   },
   "file_extension": ".py",
   "mimetype": "text/x-python",
   "name": "python",
   "nbconvert_exporter": "python",
   "pygments_lexer": "ipython3",
   "version": "3.6.4"
  }
 },
 "nbformat": 4,
 "nbformat_minor": 2
}
