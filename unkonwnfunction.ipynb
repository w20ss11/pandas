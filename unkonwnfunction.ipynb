{
 "cells": [
  {
   "cell_type": "code",
   "execution_count": 1,
   "metadata": {
    "collapsed": true
   },
   "outputs": [],
   "source": [
    "from pandas import DataFrame,Series\n",
    "import pandas as pd\n",
    "import numpy as np"
   ]
  },
  {
   "cell_type": "code",
   "execution_count": 7,
   "metadata": {
    "collapsed": false
   },
   "outputs": [
    {
     "name": "stdout",
     "output_type": "stream",
     "text": [
      "      col1  col2  col3\n",
      "row1     3     4     8\n",
      "row2     2     7     0\n",
      "row3     6     1     1\n",
      "\n",
      "row1    2.0\n",
      "row2    1.0\n",
      "row3    3.0\n",
      "Name: col1, dtype: float64\n",
      "\n",
      "row1    2.0\n",
      "row2    3.0\n",
      "row3    1.0\n",
      "Name: col2, dtype: float64\n",
      "\n",
      "row1    3.0\n",
      "row2    1.0\n",
      "row3    2.0\n",
      "Name: col3, dtype: float64\n",
      "\n"
     ]
    }
   ],
   "source": [
    "# rank\n",
    "df = DataFrame({'col1':[3,2,6],'col2':[4,7,1],'col3':[8,0,1]},index = ['row1','row2','row3'])\n",
    "\n",
    "print(df)\n",
    "print()\n",
    "\n",
    "for col in df.columns:\n",
    "    print(df[col].rank(method='max'))\n",
    "    print()"
   ]
  },
  {
   "cell_type": "code",
   "execution_count": 10,
   "metadata": {
    "collapsed": false
   },
   "outputs": [
    {
     "name": "stdout",
     "output_type": "stream",
     "text": [
      "      col1  col2  col3\n",
      "row1     3     4     8\n",
      "row2     2     7     0\n",
      "row3     6     1     1\n"
     ]
    },
    {
     "data": {
      "text/html": [
       "<div>\n",
       "<style>\n",
       "    .dataframe thead tr:only-child th {\n",
       "        text-align: right;\n",
       "    }\n",
       "\n",
       "    .dataframe thead th {\n",
       "        text-align: left;\n",
       "    }\n",
       "\n",
       "    .dataframe tbody tr th {\n",
       "        vertical-align: top;\n",
       "    }\n",
       "</style>\n",
       "<table border=\"1\" class=\"dataframe\">\n",
       "  <thead>\n",
       "    <tr style=\"text-align: right;\">\n",
       "      <th></th>\n",
       "      <th>col11</th>\n",
       "      <th>col22</th>\n",
       "      <th>col33</th>\n",
       "    </tr>\n",
       "  </thead>\n",
       "  <tbody>\n",
       "    <tr>\n",
       "      <th>row1</th>\n",
       "      <td>3</td>\n",
       "      <td>4</td>\n",
       "      <td>8</td>\n",
       "    </tr>\n",
       "    <tr>\n",
       "      <th>row2</th>\n",
       "      <td>2</td>\n",
       "      <td>7</td>\n",
       "      <td>0</td>\n",
       "    </tr>\n",
       "    <tr>\n",
       "      <th>row3</th>\n",
       "      <td>6</td>\n",
       "      <td>1</td>\n",
       "      <td>1</td>\n",
       "    </tr>\n",
       "  </tbody>\n",
       "</table>\n",
       "</div>"
      ],
      "text/plain": [
       "      col11  col22  col33\n",
       "row1      3      4      8\n",
       "row2      2      7      0\n",
       "row3      6      1      1"
      ]
     },
     "execution_count": 10,
     "metadata": {},
     "output_type": "execute_result"
    }
   ],
   "source": [
    "print(df)\n",
    "\n",
    "dict = {'col1':'col11','col2':'col22','col3':'col33'}\n",
    "df.rename(columns = dict)"
   ]
  },
  {
   "cell_type": "code",
   "execution_count": 16,
   "metadata": {
    "collapsed": false
   },
   "outputs": [
    {
     "name": "stdout",
     "output_type": "stream",
     "text": [
      "      col1  col2  col3\n",
      "row1     3     4     8\n",
      "row2     2     7     0\n",
      "row3     6     1     1\n",
      "\n",
      "row1    0\n",
      "row2    0\n",
      "row3    2\n",
      "dtype: int64\n",
      "\n",
      "row1    0\n",
      "row2    1\n",
      "row3    0\n",
      "dtype: int64\n"
     ]
    }
   ],
   "source": [
    "print(df)\n",
    "print()\n",
    "print((df == 1).sum(axis = 1))\n",
    "print()\n",
    "print((df == 2).sum(axis = 1))"
   ]
  },
  {
   "cell_type": "code",
   "execution_count": null,
   "metadata": {
    "collapsed": true
   },
   "outputs": [],
   "source": []
  },
  {
   "cell_type": "code",
   "execution_count": null,
   "metadata": {
    "collapsed": true
   },
   "outputs": [],
   "source": []
  },
  {
   "cell_type": "code",
   "execution_count": null,
   "metadata": {
    "collapsed": true
   },
   "outputs": [],
   "source": []
  },
  {
   "cell_type": "code",
   "execution_count": null,
   "metadata": {
    "collapsed": true
   },
   "outputs": [],
   "source": []
  },
  {
   "cell_type": "code",
   "execution_count": null,
   "metadata": {
    "collapsed": true
   },
   "outputs": [],
   "source": []
  }
 ],
 "metadata": {
  "kernelspec": {
   "display_name": "Python 3",
   "language": "python",
   "name": "python3"
  },
  "language_info": {
   "codemirror_mode": {
    "name": "ipython",
    "version": 3
   },
   "file_extension": ".py",
   "mimetype": "text/x-python",
   "name": "python",
   "nbconvert_exporter": "python",
   "pygments_lexer": "ipython3",
   "version": "3.6.0"
  }
 },
 "nbformat": 4,
 "nbformat_minor": 2
}
