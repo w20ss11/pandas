{
 "cells": [
  {
   "cell_type": "code",
   "execution_count": 1,
   "metadata": {
    "collapsed": true
   },
   "outputs": [],
   "source": [
    "from pandas import DataFrame,Series\n",
    "import pandas as pd\n",
    "import numpy as np"
   ]
  },
  {
   "cell_type": "code",
   "execution_count": 2,
   "metadata": {
    "collapsed": false
   },
   "outputs": [
    {
     "name": "stdout",
     "output_type": "stream",
     "text": [
      "    Age Areas  ID  Package  SHabit\n",
      "0    42     A   1      0.8       1\n",
      "1    42     A   1      0.8       1\n",
      "2    42     A   1      0.8       1\n",
      "3    27     C   2     -9.0       4\n",
      "4    38     A   3      1.0       4\n",
      "5    30     D   4      0.2       1\n",
      "6    50     B   5     -9.0       1\n",
      "7    50     B   5     -9.0       1\n",
      "8   158     D   6      0.5       1\n",
      "9    47     D   7      1.0       3\n",
      "10   36     B   8     -9.0       4\n",
      "11   38     C   9      1.5       2\n",
      "12   38     C   9      1.5       2\n",
      "13    6     A  10      1.0       2\n",
      "14    6     A  10      1.0       2\n"
     ]
    }
   ],
   "source": [
    "df = DataFrame({'Age':[42,42,42,27,38,30,50,50,158,47,36,38,38,6,6],\n",
    "              'Areas':['A','A','A','C','A','D','B','B','D','D','B','C','C','A','A'],\n",
    "              'ID':[1,1,1,2,3,4,5,5,6,7,8,9,9,10,10],\n",
    "              'Package':[0.8,0.8,0.8,-9.0,1.0,0.2,-9.0,-9.0,0.5,1.0,-9.0,1.5,1.5,1.0,1.0],\n",
    "              'SHabit':[1,1,1,4,4,1,1,1,1,3,4,2,2,2,2]})\n",
    "print(df)"
   ]
  },
  {
   "cell_type": "code",
   "execution_count": 3,
   "metadata": {
    "collapsed": false
   },
   "outputs": [
    {
     "name": "stdout",
     "output_type": "stream",
     "text": [
      "    Age Areas  ID  Package  SHabit\n",
      "0    42     A   1      0.8       1\n",
      "3    27     C   2     -9.0       4\n",
      "4    38     A   3      1.0       4\n",
      "5    30     D   4      0.2       1\n",
      "6    50     B   5     -9.0       1\n",
      "8   158     D   6      0.5       1\n",
      "9    47     D   7      1.0       3\n",
      "10   36     B   8     -9.0       4\n",
      "11   38     C   9      1.5       2\n",
      "13    6     A  10      1.0       2\n"
     ]
    }
   ],
   "source": [
    "#去掉重复\n",
    "df_noDup = df.drop_duplicates()\n",
    "print(df_noDup)"
   ]
  },
  {
   "cell_type": "code",
   "execution_count": 4,
   "metadata": {
    "collapsed": false
   },
   "outputs": [
    {
     "name": "stdout",
     "output_type": "stream",
     "text": [
      "             Age        ID    Package     SHabit\n",
      "count   10.00000  10.00000  10.000000  10.000000\n",
      "mean    47.20000   5.50000  -2.100000   2.300000\n",
      "std     40.83517   3.02765   4.773538   1.337494\n",
      "min      6.00000   1.00000  -9.000000   1.000000\n",
      "25%     31.50000   3.25000  -6.700000   1.000000\n",
      "50%     38.00000   5.50000   0.650000   2.000000\n",
      "75%     45.75000   7.75000   1.000000   3.750000\n",
      "max    158.00000  10.00000   1.500000   4.000000\n",
      "\n",
      "    Age Areas  ID  Package  SHabit\n",
      "0    42     A   1      0.8       1\n",
      "3    27     C   2     -9.0       4\n",
      "4    38     A   3      1.0       4\n",
      "5    30     D   4      0.2       1\n",
      "6    50     B   5     -9.0       1\n",
      "8   158     D   6      0.5       1\n",
      "9    47     D   7      1.0       3\n",
      "10   36     B   8     -9.0       4\n",
      "11   38     C   9      1.5       2\n",
      "13    6     A  10      1.0       2\n",
      "\n",
      "\n",
      "   Age Areas  ID  Package  SHabit\n",
      "8  158     D   6      0.5       1\n",
      "    Age Areas  ID  Package  SHabit\n",
      "13    6     A  10      1.0       2\n",
      "    Age Areas  ID  Package  SHabit\n",
      "3    27     C   2     -9.0       4\n",
      "6    50     B   5     -9.0       1\n",
      "10   36     B   8     -9.0       4\n",
      "\n",
      "     Age Areas  ID  Package  SHabit\n",
      "0   42.0     A   1      0.8       1\n",
      "3   27.0     C   2      0.0       4\n",
      "4   38.0     A   3      1.0       4\n",
      "5   30.0     D   4      0.2       1\n",
      "6   50.0     B   5      0.0       1\n",
      "8    NaN     D   6      0.5       1\n",
      "9   47.0     D   7      1.0       3\n",
      "10  36.0     B   8      0.0       4\n",
      "11  38.0     C   9      1.5       2\n",
      "13   NaN     A  10      1.0       2\n"
     ]
    },
    {
     "name": "stderr",
     "output_type": "stream",
     "text": [
      "C:\\Users\\hndnkj\\Anaconda3\\lib\\site-packages\\ipykernel\\__main__.py:15: SettingWithCopyWarning: \n",
      "A value is trying to be set on a copy of a slice from a DataFrame.\n",
      "Try using .loc[row_indexer,col_indexer] = value instead\n",
      "\n",
      "See the caveats in the documentation: http://pandas.pydata.org/pandas-docs/stable/indexing.html#indexing-view-versus-copy\n",
      "C:\\Users\\hndnkj\\Anaconda3\\lib\\site-packages\\ipykernel\\__main__.py:16: SettingWithCopyWarning: \n",
      "A value is trying to be set on a copy of a slice from a DataFrame.\n",
      "Try using .loc[row_indexer,col_indexer] = value instead\n",
      "\n",
      "See the caveats in the documentation: http://pandas.pydata.org/pandas-docs/stable/indexing.html#indexing-view-versus-copy\n"
     ]
    }
   ],
   "source": [
    "#检查异常\n",
    "print(df_noDup.describe())\n",
    "\n",
    "print()\n",
    "print(df_noDup)\n",
    "\n",
    "print()#检查age>100或者<10的行 Package=-9的行\n",
    "print()\n",
    "print(df_noDup[df_noDup['Age']>100])\n",
    "print(df_noDup[df_noDup['Age']<10])\n",
    "print(df_noDup[df_noDup['Package']==-9])\n",
    "\n",
    "print()#替换上述异常值 异常的年龄替换为缺失值，异常的Package替换为0（减少缺失值）\n",
    "df_rep = df_noDup\n",
    "df_rep['Age'] = df_noDup['Age'].replace([158,6],np.nan)\n",
    "df_rep['Package'] = df_rep['Package'].replace(-9,0)\n",
    "print(df_rep)"
   ]
  },
  {
   "cell_type": "code",
   "execution_count": 5,
   "metadata": {
    "collapsed": false
   },
   "outputs": [
    {
     "name": "stdout",
     "output_type": "stream",
     "text": [
      "     Age Areas  ID  Package  SHabit ctype\n",
      "0   42.0     A   1      0.8       1     U\n",
      "3   27.0     C   2      0.0       4     U\n",
      "4   38.0     A   3      1.0       4     U\n",
      "5   30.0     D   4      0.2       1     R\n",
      "6   50.0     B   5      0.0       1     U\n",
      "8    NaN     D   6      0.5       1     R\n",
      "9   47.0     D   7      1.0       3     R\n",
      "10  36.0     B   8      0.0       4     U\n",
      "11  38.0     C   9      1.5       2     U\n",
      "13   NaN     A  10      1.0       2     U\n"
     ]
    },
    {
     "name": "stderr",
     "output_type": "stream",
     "text": [
      "C:\\Users\\hndnkj\\Anaconda3\\lib\\site-packages\\ipykernel\\__main__.py:2: SettingWithCopyWarning: \n",
      "A value is trying to be set on a copy of a slice from a DataFrame.\n",
      "Try using .loc[row_indexer,col_indexer] = value instead\n",
      "\n",
      "See the caveats in the documentation: http://pandas.pydata.org/pandas-docs/stable/indexing.html#indexing-view-versus-copy\n",
      "  from ipykernel import kernelapp as app\n"
     ]
    }
   ],
   "source": [
    "ctype = {'A':'U','B':'U','C':'U','D':'R'}\n",
    "df_rep['ctype'] = df_rep['Areas'].map(ctype)\n",
    "print(df_rep)"
   ]
  },
  {
   "cell_type": "code",
   "execution_count": 7,
   "metadata": {
    "collapsed": false
   },
   "outputs": [
    {
     "name": "stdout",
     "output_type": "stream",
     "text": [
      "     Age Areas  ID  Package  SHabit ctype ageGroup\n",
      "0   42.0     A   1      0.8       1     U      1.0\n",
      "3   27.0     C   2      0.0       4     U      0.0\n",
      "4   38.0     A   3      1.0       4     U      0.0\n",
      "5   30.0     D   4      0.2       1     R      0.0\n",
      "6   50.0     B   5      0.0       1     U      1.0\n",
      "8    NaN     D   6      0.5       1     R      NaN\n",
      "9   47.0     D   7      1.0       3     R      1.0\n",
      "10  36.0     B   8      0.0       4     U      0.0\n",
      "11  38.0     C   9      1.5       2     U      0.0\n",
      "13   NaN     A  10      1.0       2     U      NaN\n"
     ]
    },
    {
     "name": "stderr",
     "output_type": "stream",
     "text": [
      "C:\\Users\\hndnkj\\Anaconda3\\lib\\site-packages\\ipykernel\\__main__.py:1: SettingWithCopyWarning: \n",
      "A value is trying to be set on a copy of a slice from a DataFrame.\n",
      "Try using .loc[row_indexer,col_indexer] = value instead\n",
      "\n",
      "See the caveats in the documentation: http://pandas.pydata.org/pandas-docs/stable/indexing.html#indexing-view-versus-copy\n",
      "  if __name__ == '__main__':\n"
     ]
    }
   ],
   "source": [
    "df_rep['ageGroup'] = pd.qcut(df_rep['Age'],2,labels=[0,1])\n",
    "print(df_rep)"
   ]
  },
  {
   "cell_type": "code",
   "execution_count": 23,
   "metadata": {
    "collapsed": false
   },
   "outputs": [
    {
     "data": {
      "text/html": [
       "<div>\n",
       "<table border=\"1\" class=\"dataframe\">\n",
       "  <thead>\n",
       "    <tr style=\"text-align: right;\">\n",
       "      <th></th>\n",
       "      <th>Age</th>\n",
       "      <th>Areas</th>\n",
       "      <th>ID</th>\n",
       "      <th>Package</th>\n",
       "      <th>SHabit</th>\n",
       "      <th>ctype</th>\n",
       "      <th>ageGroup</th>\n",
       "      <th>SHabit_1</th>\n",
       "      <th>SHabit_2</th>\n",
       "      <th>SHabit_3</th>\n",
       "      <th>SHabit_4</th>\n",
       "    </tr>\n",
       "  </thead>\n",
       "  <tbody>\n",
       "    <tr>\n",
       "      <th>0</th>\n",
       "      <td>42.0</td>\n",
       "      <td>A</td>\n",
       "      <td>1</td>\n",
       "      <td>0.8</td>\n",
       "      <td>1</td>\n",
       "      <td>U</td>\n",
       "      <td>1.0</td>\n",
       "      <td>1</td>\n",
       "      <td>0</td>\n",
       "      <td>0</td>\n",
       "      <td>0</td>\n",
       "    </tr>\n",
       "    <tr>\n",
       "      <th>3</th>\n",
       "      <td>27.0</td>\n",
       "      <td>C</td>\n",
       "      <td>2</td>\n",
       "      <td>0.0</td>\n",
       "      <td>4</td>\n",
       "      <td>U</td>\n",
       "      <td>0.0</td>\n",
       "      <td>0</td>\n",
       "      <td>0</td>\n",
       "      <td>0</td>\n",
       "      <td>1</td>\n",
       "    </tr>\n",
       "    <tr>\n",
       "      <th>4</th>\n",
       "      <td>38.0</td>\n",
       "      <td>A</td>\n",
       "      <td>3</td>\n",
       "      <td>1.0</td>\n",
       "      <td>4</td>\n",
       "      <td>U</td>\n",
       "      <td>0.0</td>\n",
       "      <td>0</td>\n",
       "      <td>0</td>\n",
       "      <td>0</td>\n",
       "      <td>1</td>\n",
       "    </tr>\n",
       "    <tr>\n",
       "      <th>5</th>\n",
       "      <td>30.0</td>\n",
       "      <td>D</td>\n",
       "      <td>4</td>\n",
       "      <td>0.2</td>\n",
       "      <td>1</td>\n",
       "      <td>R</td>\n",
       "      <td>0.0</td>\n",
       "      <td>1</td>\n",
       "      <td>0</td>\n",
       "      <td>0</td>\n",
       "      <td>0</td>\n",
       "    </tr>\n",
       "    <tr>\n",
       "      <th>6</th>\n",
       "      <td>50.0</td>\n",
       "      <td>B</td>\n",
       "      <td>5</td>\n",
       "      <td>0.0</td>\n",
       "      <td>1</td>\n",
       "      <td>U</td>\n",
       "      <td>1.0</td>\n",
       "      <td>1</td>\n",
       "      <td>0</td>\n",
       "      <td>0</td>\n",
       "      <td>0</td>\n",
       "    </tr>\n",
       "    <tr>\n",
       "      <th>8</th>\n",
       "      <td>NaN</td>\n",
       "      <td>D</td>\n",
       "      <td>6</td>\n",
       "      <td>0.5</td>\n",
       "      <td>1</td>\n",
       "      <td>R</td>\n",
       "      <td>NaN</td>\n",
       "      <td>1</td>\n",
       "      <td>0</td>\n",
       "      <td>0</td>\n",
       "      <td>0</td>\n",
       "    </tr>\n",
       "    <tr>\n",
       "      <th>9</th>\n",
       "      <td>47.0</td>\n",
       "      <td>D</td>\n",
       "      <td>7</td>\n",
       "      <td>1.0</td>\n",
       "      <td>3</td>\n",
       "      <td>R</td>\n",
       "      <td>1.0</td>\n",
       "      <td>0</td>\n",
       "      <td>0</td>\n",
       "      <td>1</td>\n",
       "      <td>0</td>\n",
       "    </tr>\n",
       "    <tr>\n",
       "      <th>10</th>\n",
       "      <td>36.0</td>\n",
       "      <td>B</td>\n",
       "      <td>8</td>\n",
       "      <td>0.0</td>\n",
       "      <td>4</td>\n",
       "      <td>U</td>\n",
       "      <td>0.0</td>\n",
       "      <td>0</td>\n",
       "      <td>0</td>\n",
       "      <td>0</td>\n",
       "      <td>1</td>\n",
       "    </tr>\n",
       "    <tr>\n",
       "      <th>11</th>\n",
       "      <td>38.0</td>\n",
       "      <td>C</td>\n",
       "      <td>9</td>\n",
       "      <td>1.5</td>\n",
       "      <td>2</td>\n",
       "      <td>U</td>\n",
       "      <td>0.0</td>\n",
       "      <td>0</td>\n",
       "      <td>1</td>\n",
       "      <td>0</td>\n",
       "      <td>0</td>\n",
       "    </tr>\n",
       "    <tr>\n",
       "      <th>13</th>\n",
       "      <td>NaN</td>\n",
       "      <td>A</td>\n",
       "      <td>10</td>\n",
       "      <td>1.0</td>\n",
       "      <td>2</td>\n",
       "      <td>U</td>\n",
       "      <td>NaN</td>\n",
       "      <td>0</td>\n",
       "      <td>1</td>\n",
       "      <td>0</td>\n",
       "      <td>0</td>\n",
       "    </tr>\n",
       "  </tbody>\n",
       "</table>\n",
       "</div>"
      ],
      "text/plain": [
       "     Age Areas  ID  Package  SHabit ctype ageGroup  SHabit_1  SHabit_2  \\\n",
       "0   42.0     A   1      0.8       1     U      1.0         1         0   \n",
       "3   27.0     C   2      0.0       4     U      0.0         0         0   \n",
       "4   38.0     A   3      1.0       4     U      0.0         0         0   \n",
       "5   30.0     D   4      0.2       1     R      0.0         1         0   \n",
       "6   50.0     B   5      0.0       1     U      1.0         1         0   \n",
       "8    NaN     D   6      0.5       1     R      NaN         1         0   \n",
       "9   47.0     D   7      1.0       3     R      1.0         0         0   \n",
       "10  36.0     B   8      0.0       4     U      0.0         0         0   \n",
       "11  38.0     C   9      1.5       2     U      0.0         0         1   \n",
       "13   NaN     A  10      1.0       2     U      NaN         0         1   \n",
       "\n",
       "    SHabit_3  SHabit_4  \n",
       "0          0         0  \n",
       "3          0         1  \n",
       "4          0         1  \n",
       "5          0         0  \n",
       "6          0         0  \n",
       "8          0         0  \n",
       "9          1         0  \n",
       "10         0         1  \n",
       "11         0         0  \n",
       "13         0         0  "
      ]
     },
     "execution_count": 23,
     "metadata": {},
     "output_type": "execute_result"
    }
   ],
   "source": [
    "dummies = pd.get_dummies(df_rep['SHabit'],prefix = 'SHabit')\n",
    "pd.concat([df_rep,dummies],axis = 1)"
   ]
  },
  {
   "cell_type": "code",
   "execution_count": 37,
   "metadata": {
    "collapsed": false
   },
   "outputs": [
    {
     "name": "stdout",
     "output_type": "stream",
     "text": [
      "DatetimeIndex(['2017-09-14', '2017-09-15', '2017-09-16', '2017-09-17',\n",
      "               '2017-09-18', '2017-09-19', '2017-09-20'],\n",
      "              dtype='datetime64[ns]', freq='D')\n",
      "<class 'pandas.tseries.index.DatetimeIndex'>\n"
     ]
    }
   ],
   "source": [
    "dates = pd.date_range('20170914',periods=7)\n",
    "print(dates)\n",
    "print(type(dates))"
   ]
  },
  {
   "cell_type": "code",
   "execution_count": 32,
   "metadata": {
    "collapsed": true
   },
   "outputs": [],
   "source": [
    "from datetime import datetime as dt"
   ]
  },
  {
   "cell_type": "code",
   "execution_count": 38,
   "metadata": {
    "collapsed": false
   },
   "outputs": [
    {
     "ename": "TypeError",
     "evalue": "strptime() takes exactly 2 arguments (1 given)",
     "output_type": "error",
     "traceback": [
      "\u001b[0;31m---------------------------------------------------------------------------\u001b[0m",
      "\u001b[0;31mTypeError\u001b[0m                                 Traceback (most recent call last)",
      "\u001b[0;32m<ipython-input-38-45db14b17f0f>\u001b[0m in \u001b[0;36m<module>\u001b[0;34m()\u001b[0m\n\u001b[1;32m      4\u001b[0m     \u001b[1;32melse\u001b[0m\u001b[1;33m:\u001b[0m\u001b[1;33m\u001b[0m\u001b[0m\n\u001b[1;32m      5\u001b[0m         \u001b[1;32mreturn\u001b[0m \u001b[0mdt\u001b[0m\u001b[1;33m.\u001b[0m\u001b[0mstrptime\u001b[0m\u001b[1;33m(\u001b[0m\u001b[0mdate\u001b[0m\u001b[1;33m)\u001b[0m\u001b[1;33m\u001b[0m\u001b[0m\n\u001b[0;32m----> 6\u001b[0;31m \u001b[0mprint\u001b[0m\u001b[1;33m(\u001b[0m\u001b[0mparse_date\u001b[0m\u001b[1;33m(\u001b[0m\u001b[1;34m\"20170101\"\u001b[0m\u001b[1;33m)\u001b[0m\u001b[1;33m)\u001b[0m\u001b[1;33m\u001b[0m\u001b[0m\n\u001b[0m",
      "\u001b[0;32m<ipython-input-38-45db14b17f0f>\u001b[0m in \u001b[0;36mparse_date\u001b[0;34m(date)\u001b[0m\n\u001b[1;32m      3\u001b[0m         \u001b[1;32mreturn\u001b[0m \u001b[1;32mNone\u001b[0m\u001b[1;33m\u001b[0m\u001b[0m\n\u001b[1;32m      4\u001b[0m     \u001b[1;32melse\u001b[0m\u001b[1;33m:\u001b[0m\u001b[1;33m\u001b[0m\u001b[0m\n\u001b[0;32m----> 5\u001b[0;31m         \u001b[1;32mreturn\u001b[0m \u001b[0mdt\u001b[0m\u001b[1;33m.\u001b[0m\u001b[0mstrptime\u001b[0m\u001b[1;33m(\u001b[0m\u001b[0mdate\u001b[0m\u001b[1;33m)\u001b[0m\u001b[1;33m\u001b[0m\u001b[0m\n\u001b[0m\u001b[1;32m      6\u001b[0m \u001b[0mprint\u001b[0m\u001b[1;33m(\u001b[0m\u001b[0mparse_date\u001b[0m\u001b[1;33m(\u001b[0m\u001b[1;34m\"20170101\"\u001b[0m\u001b[1;33m)\u001b[0m\u001b[1;33m)\u001b[0m\u001b[1;33m\u001b[0m\u001b[0m\n",
      "\u001b[0;31mTypeError\u001b[0m: strptime() takes exactly 2 arguments (1 given)"
     ]
    }
   ],
   "source": [
    "def parse_date(date):\n",
    "    if date==\"\":\n",
    "        return None\n",
    "    else:\n",
    "        return dt.strptime(date,'%Y-%m-%d')\n",
    "print(parse_date(\"20170101\"))"
   ]
  },
  {
   "cell_type": "code",
   "execution_count": null,
   "metadata": {
    "collapsed": true
   },
   "outputs": [],
   "source": []
  },
  {
   "cell_type": "code",
   "execution_count": null,
   "metadata": {
    "collapsed": true
   },
   "outputs": [],
   "source": []
  },
  {
   "cell_type": "code",
   "execution_count": null,
   "metadata": {
    "collapsed": true
   },
   "outputs": [],
   "source": []
  },
  {
   "cell_type": "code",
   "execution_count": null,
   "metadata": {
    "collapsed": true
   },
   "outputs": [],
   "source": []
  },
  {
   "cell_type": "code",
   "execution_count": null,
   "metadata": {
    "collapsed": true
   },
   "outputs": [],
   "source": []
  }
 ],
 "metadata": {
  "kernelspec": {
   "display_name": "Python 3",
   "language": "python",
   "name": "python3"
  },
  "language_info": {
   "codemirror_mode": {
    "name": "ipython",
    "version": 3
   },
   "file_extension": ".py",
   "mimetype": "text/x-python",
   "name": "python",
   "nbconvert_exporter": "python",
   "pygments_lexer": "ipython3",
   "version": "3.6.0"
  }
 },
 "nbformat": 4,
 "nbformat_minor": 2
}
